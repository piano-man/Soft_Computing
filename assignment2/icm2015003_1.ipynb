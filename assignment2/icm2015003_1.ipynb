{
 "cells": [
  {
   "cell_type": "code",
   "execution_count": 1,
   "metadata": {
    "_cell_guid": "b1076dfc-b9ad-4769-8c92-a6c4dae69d19",
    "_uuid": "8f2839f25d086af736a60e9eeb907d3b93b6e0e5"
   },
   "outputs": [
    {
     "name": "stdout",
     "output_type": "stream",
     "text": [
      "['Housing Price data set.csv']\n"
     ]
    }
   ],
   "source": [
    "import numpy as np # linear algebra\n",
    "import pandas as pd # data processing, CSV file I/O (e.g. pd.read_csv)\n",
    "from sklearn.model_selection import train_test_split as tts\n",
    "from sklearn.metrics import mean_squared_error\n",
    "import matplotlib.pyplot as plt\n",
    "import seaborn as sns\n",
    "import os\n",
    "print(os.listdir(\"../input\"))"
   ]
  },
  {
   "cell_type": "markdown",
   "metadata": {
    "_uuid": "5bf03ed1a942580798067652f22911722e6300eb"
   },
   "source": [
    "**GRADIENT DESCENT METHOD**"
   ]
  },
  {
   "cell_type": "code",
   "execution_count": 2,
   "metadata": {
    "_cell_guid": "79c7e3d0-c299-4dcb-8224-4455121ee9b0",
    "_uuid": "d629ff2d2480ee46fbb7e2d37f6b5fab8052498a"
   },
   "outputs": [],
   "source": [
    "df = pd.read_csv('../input/Housing Price data set.csv')"
   ]
  },
  {
   "cell_type": "code",
   "execution_count": 3,
   "metadata": {
    "_uuid": "e8399b6abdca9fb93af6b26532b24511b52356d1"
   },
   "outputs": [
    {
     "name": "stdout",
     "output_type": "stream",
     "text": [
      "<class 'pandas.core.frame.DataFrame'>\n",
      "RangeIndex: 546 entries, 0 to 545\n",
      "Data columns (total 13 columns):\n",
      "Unnamed: 0    546 non-null int64\n",
      "price         546 non-null float64\n",
      "lotsize       546 non-null int64\n",
      "bedrooms      546 non-null int64\n",
      "bathrms       546 non-null int64\n",
      "stories       546 non-null int64\n",
      "driveway      546 non-null object\n",
      "recroom       546 non-null object\n",
      "fullbase      546 non-null object\n",
      "gashw         546 non-null object\n",
      "airco         546 non-null object\n",
      "garagepl      546 non-null int64\n",
      "prefarea      546 non-null object\n",
      "dtypes: float64(1), int64(6), object(6)\n",
      "memory usage: 55.5+ KB\n"
     ]
    }
   ],
   "source": [
    "df.info()"
   ]
  },
  {
   "cell_type": "code",
   "execution_count": 4,
   "metadata": {
    "_uuid": "59790ae9f47794f06107f61d9e1ed39508751be1"
   },
   "outputs": [
    {
     "data": {
      "text/html": [
       "<div>\n",
       "<style scoped>\n",
       "    .dataframe tbody tr th:only-of-type {\n",
       "        vertical-align: middle;\n",
       "    }\n",
       "\n",
       "    .dataframe tbody tr th {\n",
       "        vertical-align: top;\n",
       "    }\n",
       "\n",
       "    .dataframe thead th {\n",
       "        text-align: right;\n",
       "    }\n",
       "</style>\n",
       "<table border=\"1\" class=\"dataframe\">\n",
       "  <thead>\n",
       "    <tr style=\"text-align: right;\">\n",
       "      <th></th>\n",
       "      <th>Unnamed: 0</th>\n",
       "      <th>price</th>\n",
       "      <th>lotsize</th>\n",
       "      <th>bedrooms</th>\n",
       "      <th>bathrms</th>\n",
       "      <th>stories</th>\n",
       "      <th>driveway</th>\n",
       "      <th>recroom</th>\n",
       "      <th>fullbase</th>\n",
       "      <th>gashw</th>\n",
       "      <th>airco</th>\n",
       "      <th>garagepl</th>\n",
       "      <th>prefarea</th>\n",
       "    </tr>\n",
       "  </thead>\n",
       "  <tbody>\n",
       "    <tr>\n",
       "      <th>0</th>\n",
       "      <td>1</td>\n",
       "      <td>42000.0</td>\n",
       "      <td>5850</td>\n",
       "      <td>3</td>\n",
       "      <td>1</td>\n",
       "      <td>2</td>\n",
       "      <td>1</td>\n",
       "      <td>0</td>\n",
       "      <td>1</td>\n",
       "      <td>0</td>\n",
       "      <td>0</td>\n",
       "      <td>1</td>\n",
       "      <td>0</td>\n",
       "    </tr>\n",
       "    <tr>\n",
       "      <th>1</th>\n",
       "      <td>2</td>\n",
       "      <td>38500.0</td>\n",
       "      <td>4000</td>\n",
       "      <td>2</td>\n",
       "      <td>1</td>\n",
       "      <td>1</td>\n",
       "      <td>1</td>\n",
       "      <td>0</td>\n",
       "      <td>0</td>\n",
       "      <td>0</td>\n",
       "      <td>0</td>\n",
       "      <td>0</td>\n",
       "      <td>0</td>\n",
       "    </tr>\n",
       "    <tr>\n",
       "      <th>2</th>\n",
       "      <td>3</td>\n",
       "      <td>49500.0</td>\n",
       "      <td>3060</td>\n",
       "      <td>3</td>\n",
       "      <td>1</td>\n",
       "      <td>1</td>\n",
       "      <td>1</td>\n",
       "      <td>0</td>\n",
       "      <td>0</td>\n",
       "      <td>0</td>\n",
       "      <td>0</td>\n",
       "      <td>0</td>\n",
       "      <td>0</td>\n",
       "    </tr>\n",
       "    <tr>\n",
       "      <th>3</th>\n",
       "      <td>4</td>\n",
       "      <td>60500.0</td>\n",
       "      <td>6650</td>\n",
       "      <td>3</td>\n",
       "      <td>1</td>\n",
       "      <td>2</td>\n",
       "      <td>1</td>\n",
       "      <td>1</td>\n",
       "      <td>0</td>\n",
       "      <td>0</td>\n",
       "      <td>0</td>\n",
       "      <td>0</td>\n",
       "      <td>0</td>\n",
       "    </tr>\n",
       "    <tr>\n",
       "      <th>4</th>\n",
       "      <td>5</td>\n",
       "      <td>61000.0</td>\n",
       "      <td>6360</td>\n",
       "      <td>2</td>\n",
       "      <td>1</td>\n",
       "      <td>1</td>\n",
       "      <td>1</td>\n",
       "      <td>0</td>\n",
       "      <td>0</td>\n",
       "      <td>0</td>\n",
       "      <td>0</td>\n",
       "      <td>0</td>\n",
       "      <td>0</td>\n",
       "    </tr>\n",
       "  </tbody>\n",
       "</table>\n",
       "</div>"
      ],
      "text/plain": [
       "   Unnamed: 0    price  lotsize    ...     airco  garagepl  prefarea\n",
       "0           1  42000.0     5850    ...         0         1         0\n",
       "1           2  38500.0     4000    ...         0         0         0\n",
       "2           3  49500.0     3060    ...         0         0         0\n",
       "3           4  60500.0     6650    ...         0         0         0\n",
       "4           5  61000.0     6360    ...         0         0         0\n",
       "\n",
       "[5 rows x 13 columns]"
      ]
     },
     "execution_count": 4,
     "metadata": {},
     "output_type": "execute_result"
    }
   ],
   "source": [
    "df = df.replace({'yes': 1, 'no': 0})\n",
    "df.head()"
   ]
  },
  {
   "cell_type": "code",
   "execution_count": 5,
   "metadata": {
    "_uuid": "2f06054bf16e0d2943b14b1b943fc29125d6b89f"
   },
   "outputs": [
    {
     "data": {
      "text/plain": [
       "Index(['Unnamed: 0', 'price', 'lotsize', 'bedrooms', 'bathrms', 'stories',\n",
       "       'driveway', 'recroom', 'fullbase', 'gashw', 'airco', 'garagepl',\n",
       "       'prefarea'],\n",
       "      dtype='object')"
      ]
     },
     "execution_count": 5,
     "metadata": {},
     "output_type": "execute_result"
    }
   ],
   "source": [
    "df.columns\n"
   ]
  },
  {
   "cell_type": "code",
   "execution_count": 6,
   "metadata": {
    "_uuid": "f0fb0ab61dd2e217671f13f258d2a0aae3abd1e7"
   },
   "outputs": [],
   "source": [
    "x_features = ['lotsize', 'bedrooms', 'bathrms', 'stories','driveway', 'recroom', 'fullbase', 'gashw', 'airco', 'garagepl',\n",
    "       'prefarea']"
   ]
  },
  {
   "cell_type": "code",
   "execution_count": 7,
   "metadata": {
    "_uuid": "1f72a3781df50ea42f55d2b436f568d879077787"
   },
   "outputs": [],
   "source": [
    "x_df = df[x_features]\n",
    "x_df.head()\n",
    "y_df = df['price']\n",
    "X_train, X_test, Y_train, Y_test = tts(x_df, y_df, test_size = 0.3, random_state = 5)"
   ]
  },
  {
   "cell_type": "code",
   "execution_count": 8,
   "metadata": {
    "_uuid": "170f7d694961ff8fe13a9f82ab514e3fd07b50f6"
   },
   "outputs": [],
   "source": [
    "m = len(Y_train)\n",
    "alpha = 0.01\n",
    "lambd = 5\n",
    "num_iters = 800\n",
    "weights = np.zeros((12,1))\n",
    "X_train = (X_train - np.mean(X_train))/np.std(X_train)\n",
    "X_test = (X_test - np.mean(X_test))/np.std(X_test)\n",
    "Y_train = Y_train[:,np.newaxis]\n",
    "Y_test = Y_test[:,np.newaxis]"
   ]
  },
  {
   "cell_type": "code",
   "execution_count": 9,
   "metadata": {
    "_uuid": "ab4846a5106fc688bb798f769b62de70255c0c3d"
   },
   "outputs": [
    {
     "data": {
      "text/html": [
       "<div>\n",
       "<style scoped>\n",
       "    .dataframe tbody tr th:only-of-type {\n",
       "        vertical-align: middle;\n",
       "    }\n",
       "\n",
       "    .dataframe tbody tr th {\n",
       "        vertical-align: top;\n",
       "    }\n",
       "\n",
       "    .dataframe thead th {\n",
       "        text-align: right;\n",
       "    }\n",
       "</style>\n",
       "<table border=\"1\" class=\"dataframe\">\n",
       "  <thead>\n",
       "    <tr style=\"text-align: right;\">\n",
       "      <th></th>\n",
       "      <th>lotsize</th>\n",
       "      <th>bedrooms</th>\n",
       "      <th>bathrms</th>\n",
       "      <th>stories</th>\n",
       "      <th>driveway</th>\n",
       "      <th>recroom</th>\n",
       "      <th>fullbase</th>\n",
       "      <th>gashw</th>\n",
       "      <th>airco</th>\n",
       "      <th>garagepl</th>\n",
       "      <th>prefarea</th>\n",
       "      <th>b</th>\n",
       "    </tr>\n",
       "  </thead>\n",
       "  <tbody>\n",
       "    <tr>\n",
       "      <th>288</th>\n",
       "      <td>-0.800418</td>\n",
       "      <td>-1.470358</td>\n",
       "      <td>-0.551121</td>\n",
       "      <td>-1.023486</td>\n",
       "      <td>0.393611</td>\n",
       "      <td>-0.511408</td>\n",
       "      <td>-0.769567</td>\n",
       "      <td>-0.177332</td>\n",
       "      <td>-0.633805</td>\n",
       "      <td>0.434920</td>\n",
       "      <td>-0.633805</td>\n",
       "      <td>1</td>\n",
       "    </tr>\n",
       "    <tr>\n",
       "      <th>526</th>\n",
       "      <td>-0.035629</td>\n",
       "      <td>-0.084503</td>\n",
       "      <td>1.457410</td>\n",
       "      <td>2.267723</td>\n",
       "      <td>0.393611</td>\n",
       "      <td>-0.511408</td>\n",
       "      <td>-0.769567</td>\n",
       "      <td>-0.177332</td>\n",
       "      <td>1.577771</td>\n",
       "      <td>1.623700</td>\n",
       "      <td>-0.633805</td>\n",
       "      <td>1</td>\n",
       "    </tr>\n",
       "    <tr>\n",
       "      <th>496</th>\n",
       "      <td>-0.313346</td>\n",
       "      <td>-0.084503</td>\n",
       "      <td>-0.551121</td>\n",
       "      <td>-1.023486</td>\n",
       "      <td>0.393611</td>\n",
       "      <td>-0.511408</td>\n",
       "      <td>1.299432</td>\n",
       "      <td>-0.177332</td>\n",
       "      <td>-0.633805</td>\n",
       "      <td>-0.753861</td>\n",
       "      <td>-0.633805</td>\n",
       "      <td>1</td>\n",
       "    </tr>\n",
       "    <tr>\n",
       "      <th>483</th>\n",
       "      <td>-0.526974</td>\n",
       "      <td>-1.470358</td>\n",
       "      <td>-0.551121</td>\n",
       "      <td>-1.023486</td>\n",
       "      <td>0.393611</td>\n",
       "      <td>-0.511408</td>\n",
       "      <td>-0.769567</td>\n",
       "      <td>-0.177332</td>\n",
       "      <td>-0.633805</td>\n",
       "      <td>-0.753861</td>\n",
       "      <td>1.577771</td>\n",
       "      <td>1</td>\n",
       "    </tr>\n",
       "    <tr>\n",
       "      <th>409</th>\n",
       "      <td>0.583892</td>\n",
       "      <td>-0.084503</td>\n",
       "      <td>1.457410</td>\n",
       "      <td>1.170654</td>\n",
       "      <td>0.393611</td>\n",
       "      <td>-0.511408</td>\n",
       "      <td>-0.769567</td>\n",
       "      <td>-0.177332</td>\n",
       "      <td>1.577771</td>\n",
       "      <td>-0.753861</td>\n",
       "      <td>1.577771</td>\n",
       "      <td>1</td>\n",
       "    </tr>\n",
       "  </tbody>\n",
       "</table>\n",
       "</div>"
      ],
      "text/plain": [
       "      lotsize  bedrooms   bathrms   stories ...     airco  garagepl  prefarea  b\n",
       "288 -0.800418 -1.470358 -0.551121 -1.023486 ... -0.633805  0.434920 -0.633805  1\n",
       "526 -0.035629 -0.084503  1.457410  2.267723 ...  1.577771  1.623700 -0.633805  1\n",
       "496 -0.313346 -0.084503 -0.551121 -1.023486 ... -0.633805 -0.753861 -0.633805  1\n",
       "483 -0.526974 -1.470358 -0.551121 -1.023486 ... -0.633805 -0.753861  1.577771  1\n",
       "409  0.583892 -0.084503  1.457410  1.170654 ...  1.577771 -0.753861  1.577771  1\n",
       "\n",
       "[5 rows x 12 columns]"
      ]
     },
     "execution_count": 9,
     "metadata": {},
     "output_type": "execute_result"
    }
   ],
   "source": [
    "X_train = X_train.assign(b=1)\n",
    "X_test = X_test.assign(b=1)\n",
    "# X_train.head()\n",
    "X_test.head()\n",
    "# Y_train\n",
    "# Y_test"
   ]
  },
  {
   "cell_type": "code",
   "execution_count": 10,
   "metadata": {
    "_uuid": "9f503ac390922aa4b15374d4460171770c55e149"
   },
   "outputs": [],
   "source": [
    "def gradientDescentMulti(X, y, weights, alpha, iterations):\n",
    "    m = len(y)\n",
    "    print(X.shape)\n",
    "    print(y.shape)\n",
    "    print(weights.shape)\n",
    "    for _ in range(iterations):\n",
    "        temp = np.dot(X, weights) - y\n",
    "        temp = np.dot(X.T, temp)\n",
    "        weights = weights*(1-(alpha*lambd)/m) - (alpha/m) * temp\n",
    "    return weights"
   ]
  },
  {
   "cell_type": "code",
   "execution_count": 11,
   "metadata": {
    "_uuid": "a801d57857d3daf2ac7052c7567f2d08293e6655"
   },
   "outputs": [
    {
     "name": "stdout",
     "output_type": "stream",
     "text": [
      "(382, 12)\n",
      "(382, 1)\n",
      "(12, 1)\n"
     ]
    }
   ],
   "source": [
    "weights = gradientDescentMulti(X_train, Y_train, weights, alpha, num_iters)"
   ]
  },
  {
   "cell_type": "code",
   "execution_count": 12,
   "metadata": {
    "_uuid": "a8a2e3802ed478b933bd8d6a45adec617bdc2674"
   },
   "outputs": [
    {
     "data": {
      "text/plain": [
       "(12, 1)"
      ]
     },
     "execution_count": 12,
     "metadata": {},
     "output_type": "execute_result"
    }
   ],
   "source": [
    "weights.shape"
   ]
  },
  {
   "cell_type": "code",
   "execution_count": 13,
   "metadata": {
    "_uuid": "04abb5b0f1be31125db9fd0b6c6f98c686dbcfd3"
   },
   "outputs": [],
   "source": [
    "def GD_predict(X, weights):\n",
    "    return np.dot(X, weights)"
   ]
  },
  {
   "cell_type": "code",
   "execution_count": 14,
   "metadata": {
    "_uuid": "c1094406c791eb9eea72535114e8f0fa3e2b0cba"
   },
   "outputs": [
    {
     "data": {
      "text/plain": [
       "array([[ 8016.36016718],\n",
       "       [ 2162.41029291],\n",
       "       [ 7242.57780858],\n",
       "       [ 5100.93697542],\n",
       "       [ 2374.12060385],\n",
       "       [ 1518.16463832],\n",
       "       [ 2766.809421  ],\n",
       "       [ 2728.50565789],\n",
       "       [ 5568.34225005],\n",
       "       [ 3845.04007499],\n",
       "       [ 4360.51805024],\n",
       "       [67172.10393676]])"
      ]
     },
     "execution_count": 14,
     "metadata": {},
     "output_type": "execute_result"
    }
   ],
   "source": [
    "weights"
   ]
  },
  {
   "cell_type": "code",
   "execution_count": 15,
   "metadata": {
    "_uuid": "81dd4a8389a7d6f6f4570b4a1f93fb5c7a9db680"
   },
   "outputs": [
    {
     "data": {
      "text/plain": [
       "array([41288.17436079])"
      ]
     },
     "execution_count": 15,
     "metadata": {},
     "output_type": "execute_result"
    }
   ],
   "source": [
    "GD_predict(X_test.iloc[0], weights)"
   ]
  },
  {
   "cell_type": "code",
   "execution_count": 16,
   "metadata": {
    "_uuid": "f20143c8fefcb228f90d9c0a234889a8f5257c66"
   },
   "outputs": [
    {
     "data": {
      "text/plain": [
       "154312436.62637576"
      ]
     },
     "execution_count": 16,
     "metadata": {},
     "output_type": "execute_result"
    }
   ],
   "source": [
    "Y_predicted = [GD_predict(x, weights) for x in X_test.values]\n",
    "mean_squared_error(Y_test, Y_predicted)"
   ]
  },
  {
   "cell_type": "code",
   "execution_count": 17,
   "metadata": {
    "_uuid": "e6a1cd529e4094d3eee6687fef82bd7ef43a458b"
   },
   "outputs": [
    {
     "data": {
      "text/plain": [
       "array([30000.])"
      ]
     },
     "execution_count": 17,
     "metadata": {},
     "output_type": "execute_result"
    }
   ],
   "source": [
    "Y_test[0]"
   ]
  },
  {
   "cell_type": "markdown",
   "metadata": {
    "_uuid": "1e499bf13802a8230c141af866e65ef88bf68185"
   },
   "source": [
    "**NORMAL EQUATION METHOD**"
   ]
  },
  {
   "cell_type": "code",
   "execution_count": 18,
   "metadata": {
    "_uuid": "7a088af920fa728e2d1e959100db859a26b53e05"
   },
   "outputs": [
    {
     "data": {
      "text/plain": [
       "Index(['Unnamed: 0', 'price', 'lotsize', 'bedrooms', 'bathrms', 'stories',\n",
       "       'driveway', 'recroom', 'fullbase', 'gashw', 'airco', 'garagepl',\n",
       "       'prefarea', 'b'],\n",
       "      dtype='object')"
      ]
     },
     "execution_count": 18,
     "metadata": {},
     "output_type": "execute_result"
    }
   ],
   "source": [
    "df = df.assign(b=1)\n",
    "df.columns"
   ]
  },
  {
   "cell_type": "code",
   "execution_count": 19,
   "metadata": {
    "_uuid": "41110d721bc39edc85553b89e30be3bc055101c5"
   },
   "outputs": [],
   "source": [
    "x_features = ['b','lotsize', 'bedrooms', 'bathrms', 'stories']"
   ]
  },
  {
   "cell_type": "code",
   "execution_count": 20,
   "metadata": {
    "_uuid": "6164add547fdba7a6ba94ae7d4436d2d969baac5"
   },
   "outputs": [],
   "source": [
    "x_df = df[x_features]\n",
    "x_df.head()\n",
    "y_df = df['price']\n",
    "X_train, X_test, Y_train, Y_test = tts(x_df, y_df, test_size = 0.3, random_state = 5)"
   ]
  },
  {
   "cell_type": "code",
   "execution_count": 21,
   "metadata": {
    "_uuid": "9ca032ae2498cde951e1fe501c92b32128d76827"
   },
   "outputs": [
    {
     "data": {
      "text/html": [
       "<div>\n",
       "<style scoped>\n",
       "    .dataframe tbody tr th:only-of-type {\n",
       "        vertical-align: middle;\n",
       "    }\n",
       "\n",
       "    .dataframe tbody tr th {\n",
       "        vertical-align: top;\n",
       "    }\n",
       "\n",
       "    .dataframe thead th {\n",
       "        text-align: right;\n",
       "    }\n",
       "</style>\n",
       "<table border=\"1\" class=\"dataframe\">\n",
       "  <thead>\n",
       "    <tr style=\"text-align: right;\">\n",
       "      <th></th>\n",
       "      <th>b</th>\n",
       "      <th>lotsize</th>\n",
       "      <th>bedrooms</th>\n",
       "      <th>bathrms</th>\n",
       "      <th>stories</th>\n",
       "    </tr>\n",
       "  </thead>\n",
       "  <tbody>\n",
       "    <tr>\n",
       "      <th>122</th>\n",
       "      <td>1</td>\n",
       "      <td>4400</td>\n",
       "      <td>2</td>\n",
       "      <td>1</td>\n",
       "      <td>1</td>\n",
       "    </tr>\n",
       "    <tr>\n",
       "      <th>9</th>\n",
       "      <td>1</td>\n",
       "      <td>5500</td>\n",
       "      <td>3</td>\n",
       "      <td>2</td>\n",
       "      <td>4</td>\n",
       "    </tr>\n",
       "    <tr>\n",
       "      <th>297</th>\n",
       "      <td>1</td>\n",
       "      <td>3120</td>\n",
       "      <td>3</td>\n",
       "      <td>1</td>\n",
       "      <td>2</td>\n",
       "    </tr>\n",
       "    <tr>\n",
       "      <th>203</th>\n",
       "      <td>1</td>\n",
       "      <td>3180</td>\n",
       "      <td>4</td>\n",
       "      <td>2</td>\n",
       "      <td>2</td>\n",
       "    </tr>\n",
       "    <tr>\n",
       "      <th>509</th>\n",
       "      <td>1</td>\n",
       "      <td>4040</td>\n",
       "      <td>3</td>\n",
       "      <td>1</td>\n",
       "      <td>2</td>\n",
       "    </tr>\n",
       "  </tbody>\n",
       "</table>\n",
       "</div>"
      ],
      "text/plain": [
       "     b  lotsize  bedrooms  bathrms  stories\n",
       "122  1     4400         2        1        1\n",
       "9    1     5500         3        2        4\n",
       "297  1     3120         3        1        2\n",
       "203  1     3180         4        2        2\n",
       "509  1     4040         3        1        2"
      ]
     },
     "execution_count": 21,
     "metadata": {},
     "output_type": "execute_result"
    }
   ],
   "source": [
    "X_train.head()"
   ]
  },
  {
   "cell_type": "code",
   "execution_count": 22,
   "metadata": {
    "_uuid": "bf6059b3e9c4fb77c1d7af321a58dad06618640f"
   },
   "outputs": [
    {
     "data": {
      "text/plain": [
       "122    37000.0\n",
       "9      88500.0\n",
       "297    50000.0\n",
       "203    55500.0\n",
       "509    64000.0\n",
       "Name: price, dtype: float64"
      ]
     },
     "execution_count": 22,
     "metadata": {},
     "output_type": "execute_result"
    }
   ],
   "source": [
    "Y_train.head()"
   ]
  },
  {
   "cell_type": "code",
   "execution_count": 23,
   "metadata": {
    "_uuid": "e97a70c7a96931b1d4b71e3b0312c3380da86764"
   },
   "outputs": [],
   "source": [
    "def normal_train(X, Y):\n",
    "    lambd = 5\n",
    "    transposeX = np.transpose(X)\n",
    "    N = X.shape[1]\n",
    "    I = np.zeros((N,N))\n",
    "    for i in range(N):\n",
    "        for j in range(N):\n",
    "            if i==j and i!=0:\n",
    "                I[i,j] = 1\n",
    "            \n",
    "    try:\n",
    "        A = np.linalg.inv(np.dot(transposeX,X)+(lambd*I))\n",
    "        B = np.dot(transposeX,Y)\n",
    "        return np.dot(A,B)\n",
    "    except numpy.linalg.LinAlgError:\n",
    "        print(\"X is not invertible\")\n",
    "def normal_predict(X, weights):\n",
    "    transposeW = np.transpose(weights)\n",
    "    return np.dot(transposeW, X)"
   ]
  },
  {
   "cell_type": "code",
   "execution_count": 24,
   "metadata": {
    "_uuid": "0d42da7e8ad20362f730fdfa3e52618d2aeea6e5"
   },
   "outputs": [],
   "source": [
    "weights = normal_train(X_train, Y_train)"
   ]
  },
  {
   "cell_type": "code",
   "execution_count": 25,
   "metadata": {
    "_uuid": "c41f9db9f3e0fee096baaeb745201c61df34ac90"
   },
   "outputs": [],
   "source": [
    "weights = weights.astype(float)\n",
    "X_test = X_test.astype(float)"
   ]
  },
  {
   "cell_type": "code",
   "execution_count": 26,
   "metadata": {
    "_uuid": "de59e2fb3b6cbf809384f284c6484a57d7ff11b6"
   },
   "outputs": [
    {
     "data": {
      "text/plain": [
       "43560.61293609085"
      ]
     },
     "execution_count": 26,
     "metadata": {},
     "output_type": "execute_result"
    }
   ],
   "source": [
    "normal_predict(weights, X_test.iloc[0])"
   ]
  },
  {
   "cell_type": "code",
   "execution_count": 27,
   "metadata": {
    "_uuid": "cb3e4fdc9d61468f981018200a43505b3b3578ac"
   },
   "outputs": [
    {
     "data": {
      "text/plain": [
       "30000.0"
      ]
     },
     "execution_count": 27,
     "metadata": {},
     "output_type": "execute_result"
    }
   ],
   "source": [
    "Y_test.iloc[0]"
   ]
  },
  {
   "cell_type": "code",
   "execution_count": 28,
   "metadata": {
    "_uuid": "734a2b3d7f396caf3ebf2ce4855b67395d47aa0d"
   },
   "outputs": [
    {
     "data": {
      "text/plain": [
       "254579984.33444157"
      ]
     },
     "execution_count": 28,
     "metadata": {},
     "output_type": "execute_result"
    }
   ],
   "source": [
    "Y_predicted = [normal_predict(weights, x) for x in X_test.values]\n",
    "mean_squared_error(Y_test, Y_predicted)"
   ]
  }
 ],
 "metadata": {
  "kernelspec": {
   "display_name": "Python 3",
   "language": "python",
   "name": "python3"
  },
  "language_info": {
   "codemirror_mode": {
    "name": "ipython",
    "version": 3
   },
   "file_extension": ".py",
   "mimetype": "text/x-python",
   "name": "python",
   "nbconvert_exporter": "python",
   "pygments_lexer": "ipython3",
   "version": "3.6.6"
  }
 },
 "nbformat": 4,
 "nbformat_minor": 1
}
