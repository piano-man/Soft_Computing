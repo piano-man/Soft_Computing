{
 "cells": [
  {
   "cell_type": "code",
   "execution_count": 1,
   "metadata": {
    "_uuid": "4936328e55ba4af54a2ee4e998ab7eb6680a3bbc",
    "colab": {},
    "colab_type": "code",
    "id": "cA68Jv7F-FPn"
   },
   "outputs": [
    {
     "name": "stdout",
     "output_type": "stream",
     "text": [
      "['inputs', 'housingpricedataset']\n"
     ]
    }
   ],
   "source": [
    "import numpy as np # linear algebra\n",
    "import pandas as pd # data processing, CSV file I/O (e.g. pd.read_csv)\n",
    "from sklearn.model_selection import train_test_split as tts\n",
    "from sklearn.metrics import confusion_matrix\n",
    "import matplotlib.pyplot as plt\n",
    "import seaborn as sns\n",
    "import os\n",
    "print(os.listdir(\"../input\"))\n",
    "\n",
    "from sklearn.model_selection import train_test_split\n",
    "from sklearn.preprocessing import MinMaxScaler"
   ]
  },
  {
   "cell_type": "code",
   "execution_count": 2,
   "metadata": {
    "_uuid": "0df939f10140aea662825e2f98adef9a0fb6ce00"
   },
   "outputs": [],
   "source": [
    "missing_values = [\"n/a\", \"na\", \"--\"]\n",
    "# df = pd.read_csv('../input/housingpricedataset/Housing Price data set.csv')\n",
    "exam_df = pd.read_csv('../input/inputs/exam.csv', header = None, na_values = missing_values)\n",
    "mc_df = pd.read_csv('../input/inputs/microchip.csv', header = None, na_values = missing_values)"
   ]
  },
  {
   "cell_type": "code",
   "execution_count": 3,
   "metadata": {
    "_uuid": "5531dbb68faceef54da5a265218a4a3c5eab25ee"
   },
   "outputs": [
    {
     "name": "stdout",
     "output_type": "stream",
     "text": [
      "<class 'pandas.core.frame.DataFrame'>\n",
      "RangeIndex: 100 entries, 0 to 99\n",
      "Data columns (total 3 columns):\n",
      "0    100 non-null float64\n",
      "1    100 non-null float64\n",
      "2    100 non-null int64\n",
      "dtypes: float64(2), int64(1)\n",
      "memory usage: 2.4 KB\n"
     ]
    }
   ],
   "source": [
    "exam_df.info()"
   ]
  },
  {
   "cell_type": "code",
   "execution_count": 4,
   "metadata": {
    "_uuid": "76d4e8f5e13a3c04243db6740f6e606680928d4f"
   },
   "outputs": [
    {
     "data": {
      "text/html": [
       "<div>\n",
       "<style scoped>\n",
       "    .dataframe tbody tr th:only-of-type {\n",
       "        vertical-align: middle;\n",
       "    }\n",
       "\n",
       "    .dataframe tbody tr th {\n",
       "        vertical-align: top;\n",
       "    }\n",
       "\n",
       "    .dataframe thead th {\n",
       "        text-align: right;\n",
       "    }\n",
       "</style>\n",
       "<table border=\"1\" class=\"dataframe\">\n",
       "  <thead>\n",
       "    <tr style=\"text-align: right;\">\n",
       "      <th></th>\n",
       "      <th>0</th>\n",
       "      <th>1</th>\n",
       "      <th>2</th>\n",
       "    </tr>\n",
       "  </thead>\n",
       "  <tbody>\n",
       "    <tr>\n",
       "      <th>0</th>\n",
       "      <td>34.623660</td>\n",
       "      <td>78.024693</td>\n",
       "      <td>0</td>\n",
       "    </tr>\n",
       "    <tr>\n",
       "      <th>1</th>\n",
       "      <td>30.286711</td>\n",
       "      <td>43.894998</td>\n",
       "      <td>0</td>\n",
       "    </tr>\n",
       "    <tr>\n",
       "      <th>2</th>\n",
       "      <td>35.847409</td>\n",
       "      <td>72.902198</td>\n",
       "      <td>0</td>\n",
       "    </tr>\n",
       "    <tr>\n",
       "      <th>3</th>\n",
       "      <td>60.182599</td>\n",
       "      <td>86.308552</td>\n",
       "      <td>1</td>\n",
       "    </tr>\n",
       "    <tr>\n",
       "      <th>4</th>\n",
       "      <td>79.032736</td>\n",
       "      <td>75.344376</td>\n",
       "      <td>1</td>\n",
       "    </tr>\n",
       "  </tbody>\n",
       "</table>\n",
       "</div>"
      ],
      "text/plain": [
       "           0          1  2\n",
       "0  34.623660  78.024693  0\n",
       "1  30.286711  43.894998  0\n",
       "2  35.847409  72.902198  0\n",
       "3  60.182599  86.308552  1\n",
       "4  79.032736  75.344376  1"
      ]
     },
     "execution_count": 4,
     "metadata": {},
     "output_type": "execute_result"
    }
   ],
   "source": [
    "exam_df.head()"
   ]
  },
  {
   "cell_type": "code",
   "execution_count": 5,
   "metadata": {
    "_uuid": "ce240a3f88e06258427eda6f5e6834d314a134c7"
   },
   "outputs": [],
   "source": [
    "x_features = [0,1]\n",
    "y_features = [2]\n",
    "x_exam = exam_df[x_features]\n",
    "y_exam = exam_df[y_features]"
   ]
  },
  {
   "cell_type": "code",
   "execution_count": 6,
   "metadata": {
    "_uuid": "2d79e2de2e0b936cc392b39b5389939310e9eb5d"
   },
   "outputs": [
    {
     "data": {
      "text/plain": [
       "<matplotlib.axes._subplots.AxesSubplot at 0x7fdc9f462438>"
      ]
     },
     "execution_count": 6,
     "metadata": {},
     "output_type": "execute_result"
    },
    {
     "data": {
      "image/png": "[encoded data removed]",
      "text/plain": [
       "<Figure size 432x288 with 1 Axes>"
      ]
     },
     "metadata": {},
     "output_type": "display_data"
    }
   ],
   "source": [
    "# sns.catplot(x=\"x1\", y=\"x2\", data=);\n",
    "sns.scatterplot(x=0,y=1,hue=2,data=exam_df)\n",
    "# plt.plot([0, 4], [1.5, 0], linewidth=2)"
   ]
  },
  {
   "cell_type": "code",
   "execution_count": 7,
   "metadata": {
    "_uuid": "929bd2a20d60b6befc00f97e136aba1776af4222"
   },
   "outputs": [],
   "source": [
    "X_train, X_test, Y_train, Y_test = tts(x_exam, y_exam, test_size = 0.3, shuffle = True)"
   ]
  },
  {
   "cell_type": "code",
   "execution_count": 8,
   "metadata": {
    "_uuid": "ddfcb7369f69c5e32984289b686515f15d45eea6"
   },
   "outputs": [],
   "source": [
    "X_test = (X_test - np.mean(X_train))/np.std(X_train)\n",
    "X_train = (X_train - np.mean(X_train))/np.std(X_train)"
   ]
  },
  {
   "cell_type": "code",
   "execution_count": 9,
   "metadata": {
    "_uuid": "d4936b4fbbd6640c53861abb13076f75613da4cd"
   },
   "outputs": [],
   "source": [
    "X_train = X_train.assign(b=1)\n",
    "X_test = X_test.assign(b=1)\n",
    "\n",
    "X_train = X_train.values\n",
    "Y_train = Y_train.values\n",
    "# print(X_train)\n",
    "# print(Y_train)"
   ]
  },
  {
   "cell_type": "code",
   "execution_count": 10,
   "metadata": {
    "_uuid": "6db23237bbdb75660812580e49d194a909ffdc88"
   },
   "outputs": [
    {
     "data": {
      "text/plain": [
       "array([[0.8375108 ],\n",
       "       [0.29488568],\n",
       "       [0.25617161]])"
      ]
     },
     "execution_count": 10,
     "metadata": {},
     "output_type": "execute_result"
    }
   ],
   "source": [
    "m, n = X_train.shape\n",
    "weights = np.random.rand(X_train.shape[1], 1)\n",
    "weights"
   ]
  },
  {
   "cell_type": "markdown",
   "metadata": {
    "_uuid": "645693e278f9325fdda4c93989fef39c6cc0ea5d",
    "colab_type": "text",
    "id": "VY2zFm_IhtpN"
   },
   "source": [
    "# Utils"
   ]
  },
  {
   "cell_type": "code",
   "execution_count": 11,
   "metadata": {
    "_uuid": "b352afdae550d61d313dfe0b416ef939fdb6f2a0",
    "colab": {},
    "colab_type": "code",
    "id": "EpTjIS1nEhv_"
   },
   "outputs": [],
   "source": [
    "def sigmoid(z):\n",
    "    return 1 / (1 + np.exp(-z))\n",
    "def GD_predict(X, weights):\n",
    "    p = np.dot(X, weights)\n",
    "    if(sigmoid(p) >= 0.5):\n",
    "        return 1\n",
    "    else:\n",
    "        return 0\n",
    "    \n",
    "def predict(features, weights):\n",
    "  z = np.dot(features, weights)\n",
    "  return sigmoid(z)\n",
    "\n",
    "\n",
    "def gradient(X, Y, weights):\n",
    "  m = X.shape[0]\n",
    "  Y_pred = predict(X, weights)\n",
    "  return np.dot(X.T, Y-Y_pred)\n",
    "\n",
    "\n",
    "def hessian(X, Y, weights):\n",
    "  M, N = X.shape\n",
    "  H = np.zeros((N, N))\n",
    "  for j in range(N):\n",
    "    for k in range(N):\n",
    "      H[j, k] = sum(X[i,j] * \n",
    "                    X[i,k] * \n",
    "                    predict(X[i:i+1], weights) * \n",
    "                    (1-predict(X[i:i+1], weights)) \n",
    "                    for i in range(M))\n",
    "  return H\n"
   ]
  },
  {
   "cell_type": "code",
   "execution_count": 12,
   "metadata": {
    "_uuid": "1c628b6950779929fc0d3286d8fb01ff071451d6",
    "colab": {},
    "colab_type": "code",
    "id": "7G3XIV6XPnu5"
   },
   "outputs": [],
   "source": [
    "\n"
   ]
  },
  {
   "cell_type": "code",
   "execution_count": 12,
   "metadata": {
    "_uuid": "6dd10edc92858aee57071ece550fdef4cd8a4212",
    "colab": {},
    "colab_type": "code",
    "id": "CrX2A5mZ4FWO"
   },
   "outputs": [],
   "source": [
    "def update_weights(features, labels, weights):\n",
    "  grad = gradient(features, labels, weights)\n",
    "  H = hessian(features, labels, weights)\n",
    "  H_inv = np.linalg.pinv(H)\n",
    "  weights += np.dot(H_inv, grad)\n",
    "  return weights\n",
    "\n",
    "def cost_fn(features, labels, weights):\n",
    "  m = len(labels)\n",
    "  predictions = predict(features, weights)\n",
    "  cost = -labels*np.log(predictions) - (1-labels)*np.log(1-predictions)\n",
    "  return cost.sum() / m\n",
    "\n",
    "def newtons_method(features, labels, weights, epochs):\n",
    "  cost_history = []\n",
    "#   print(features[:3], labels[:3])\n",
    "  for i in range(epochs+1):\n",
    "    weights = update_weights(features, labels, weights)\n",
    "    cost = cost_fn(features, labels, weights)\n",
    "    cost_history.append(cost)\n",
    "    \n",
    "      \n",
    "  return weights,cost_history"
   ]
  },
  {
   "cell_type": "markdown",
   "metadata": {
    "_uuid": "feafdff4a3b2ddcf82e5aa88075fe2c3ee1c020a",
    "colab_type": "text",
    "id": "XbH7qNmdgSYV"
   },
   "source": [
    "****Exam Result Dataset****"
   ]
  },
  {
   "cell_type": "code",
   "execution_count": 13,
   "metadata": {
    "_uuid": "66d116378bf08dd2786ff19187e01cc86c8e77a1",
    "colab": {
     "base_uri": "https://localhost:8080/",
     "height": 142
    },
    "colab_type": "code",
    "id": "eyWvB76rhi5o",
    "outputId": "29200bff-92e5-4797-bc9c-c8cbfa4a955d"
   },
   "outputs": [
    {
     "name": "stdout",
     "output_type": "stream",
     "text": [
      "[[3.49763898]\n",
      " [3.39298902]\n",
      " [0.82946096]]\n"
     ]
    }
   ],
   "source": [
    "epochs = 10\n",
    "weights,cost_history = newtons_method(X_train, Y_train, weights, epochs)\n",
    "print(weights)\n"
   ]
  },
  {
   "cell_type": "code",
   "execution_count": 14,
   "metadata": {
    "_uuid": "43406d3eac49842cd1215ebd4de1bfa6e41705a8"
   },
   "outputs": [
    {
     "name": "stdout",
     "output_type": "stream",
     "text": [
      "Confusion Matrix [[ 7  1]\n",
      " [ 1 21]]\n"
     ]
    },
    {
     "data": {
      "image/png": "[encoded data removed]",
      "text/plain": [
       "<Figure size 432x288 with 2 Axes>"
      ]
     },
     "metadata": {},
     "output_type": "display_data"
    }
   ],
   "source": [
    "Y_predicted = [GD_predict(x, weights) for x in X_test.values]\n",
    "cm = confusion_matrix(Y_test, Y_predicted)\n",
    "print(\"Confusion Matrix\",cm)\n",
    "ax = sns.heatmap(confusion_matrix(Y_test, Y_predicted))"
   ]
  },
  {
   "cell_type": "code",
   "execution_count": 15,
   "metadata": {
    "_uuid": "b7f924314765606794df4369955865bf2bcf5dd1",
    "colab": {
     "base_uri": "https://localhost:8080/",
     "height": 422
    },
    "colab_type": "code",
    "id": "0hXwXiQWhlw9",
    "outputId": "280ad08c-69b2-43e6-9cd3-fd75ac0f8a30"
   },
   "outputs": [
    {
     "name": "stdout",
     "output_type": "stream",
     "text": [
      "0.9333333333333333\n"
     ]
    },
    {
     "data": {
      "text/plain": [
       "[<matplotlib.lines.Line2D at 0x7fdc95579860>]"
      ]
     },
     "execution_count": 15,
     "metadata": {},
     "output_type": "execute_result"
    },
    {
     "data": {
      "image/png": "[encoded data removed]",
      "text/plain": [
       "<Figure size 432x288 with 1 Axes>"
      ]
     },
     "metadata": {},
     "output_type": "display_data"
    }
   ],
   "source": [
    "accuracy = (cm[0][0] + cm[1][1]) / (cm[0][0] + cm[0][1] + cm[1][0] + cm[1][1])\n",
    "recall = (cm[1][1])/(cm[1][1] + cm[0][1])\n",
    "precision = (cm[1][1])/(cm[1][1] + cm[0][0])\n",
    "print(accuracy)\n",
    "plt.plot(cost_history)"
   ]
  },
  {
   "cell_type": "markdown",
   "metadata": {
    "_uuid": "00c4d6d97d9e1c82b817a96046040cbe818a9350"
   },
   "source": [
    "****Microchip Dataset****"
   ]
  },
  {
   "cell_type": "code",
   "execution_count": 16,
   "metadata": {
    "_uuid": "9f46006fe9faa7dbfd19c2ef085d79af1a3e0d61"
   },
   "outputs": [],
   "source": [
    "x_features = [0,1]\n",
    "y_features = [2]\n",
    "x_exam = np.square(mc_df[x_features])\n",
    "y_exam = mc_df[y_features]"
   ]
  },
  {
   "cell_type": "code",
   "execution_count": 17,
   "metadata": {
    "_uuid": "96cfee97608f66526063d3b7ddae842303a13756"
   },
   "outputs": [
    {
     "data": {
      "text/plain": [
       "<matplotlib.axes._subplots.AxesSubplot at 0x7fdc9552cb00>"
      ]
     },
     "execution_count": 17,
     "metadata": {},
     "output_type": "execute_result"
    },
    {
     "data": {
      "image/png": "[encoded data removed]",
      "text/plain": [
       "<Figure size 432x288 with 1 Axes>"
      ]
     },
     "metadata": {},
     "output_type": "display_data"
    }
   ],
   "source": [
    "sns.scatterplot(x=0,y=1,hue=2,data=mc_df)"
   ]
  },
  {
   "cell_type": "code",
   "execution_count": 18,
   "metadata": {
    "_uuid": "d2622d3828dd0ab692fa14d3d004e303c18d564f"
   },
   "outputs": [],
   "source": [
    "X_train, X_test, Y_train, Y_test = tts(x_exam, y_exam, test_size = 0.3, shuffle = True)"
   ]
  },
  {
   "cell_type": "code",
   "execution_count": 19,
   "metadata": {
    "_uuid": "d54f1c57520197dfc6a5815d24be77666408bb70"
   },
   "outputs": [],
   "source": [
    "X_test = (X_test - np.mean(X_train))/np.std(X_train)\n",
    "X_train = (X_train - np.mean(X_train))/np.std(X_train)\n",
    "X_train = X_train.assign(b=1)\n",
    "X_test = X_test.assign(b=1)\n",
    "X_train = X_train.values\n",
    "Y_train = Y_train.values"
   ]
  },
  {
   "cell_type": "code",
   "execution_count": 20,
   "metadata": {
    "_uuid": "2261c11e6b0d967f073180e58c74666552bf9bab"
   },
   "outputs": [
    {
     "data": {
      "text/plain": [
       "array([[0.8735906 ],\n",
       "       [0.72735775],\n",
       "       [0.36856574]])"
      ]
     },
     "execution_count": 20,
     "metadata": {},
     "output_type": "execute_result"
    }
   ],
   "source": [
    "m, n = X_train.shape\n",
    "weights = np.random.rand(X_train.shape[1], 1)\n",
    "weights"
   ]
  },
  {
   "cell_type": "code",
   "execution_count": 21,
   "metadata": {
    "_uuid": "86d605aaae71445587f285a57aae9575341d758f"
   },
   "outputs": [
    {
     "name": "stdout",
     "output_type": "stream",
     "text": [
      "[[-1.51805876]\n",
      " [-1.11322998]\n",
      " [ 0.04252021]]\n"
     ]
    }
   ],
   "source": [
    "epochs = 5\n",
    "weights,cost_history = newtons_method(X_train, Y_train, weights, epochs)\n",
    "print(weights)"
   ]
  },
  {
   "cell_type": "code",
   "execution_count": 22,
   "metadata": {
    "_uuid": "7b950523ae949aab239b1ab5f9d63e66839e669c"
   },
   "outputs": [
    {
     "name": "stdout",
     "output_type": "stream",
     "text": [
      "Confusion Matrix [[17  4]\n",
      " [ 4 11]]\n"
     ]
    },
    {
     "data": {
      "image/png": "[encoded data removed]",
      "text/plain": [
       "<Figure size 432x288 with 2 Axes>"
      ]
     },
     "metadata": {},
     "output_type": "display_data"
    }
   ],
   "source": [
    "Y_predicted = [GD_predict(x, weights) for x in X_test.values]\n",
    "cm = confusion_matrix(Y_test, Y_predicted)\n",
    "print(\"Confusion Matrix\",cm)\n",
    "ax = sns.heatmap(confusion_matrix(Y_test, Y_predicted))"
   ]
  },
  {
   "cell_type": "code",
   "execution_count": 23,
   "metadata": {
    "_uuid": "f5cec5d922e08f0c3a87c81136b54716ddd4dead"
   },
   "outputs": [
    {
     "name": "stdout",
     "output_type": "stream",
     "text": [
      "0.7777777777777778\n"
     ]
    },
    {
     "data": {
      "text/plain": [
       "[<matplotlib.lines.Line2D at 0x7fdc95449e48>]"
      ]
     },
     "execution_count": 23,
     "metadata": {},
     "output_type": "execute_result"
    },
    {
     "data": {
      "image/png": "[encoded data removed]",
      "text/plain": [
       "<Figure size 432x288 with 1 Axes>"
      ]
     },
     "metadata": {},
     "output_type": "display_data"
    }
   ],
   "source": [
    "accuracy = (cm[0][0] + cm[1][1]) / (cm[0][0] + cm[0][1] + cm[1][0] + cm[1][1])\n",
    "recall = (cm[1][1])/(cm[1][1] + cm[0][1])\n",
    "precision = (cm[1][1])/(cm[1][1] + cm[0][0])\n",
    "print(accuracy)\n",
    "plt.plot(cost_history)"
   ]
  }
 ],
 "metadata": {
  "accelerator": "GPU",
  "colab": {
   "collapsed_sections": [],
   "name": "4-logistic-regression-newton-method",
   "provenance": [],
   "toc_visible": true,
   "version": "0.3.2"
  },
  "kernelspec": {
   "display_name": "Python 3",
   "language": "python",
   "name": "python3"
  },
  "language_info": {
   "codemirror_mode": {
    "name": "ipython",
    "version": 3
   },
   "file_extension": ".py",
   "mimetype": "text/x-python",
   "name": "python",
   "nbconvert_exporter": "python",
   "pygments_lexer": "ipython3",
   "version": "3.6.6"
  }
 },
 "nbformat": 4,
 "nbformat_minor": 1
}
