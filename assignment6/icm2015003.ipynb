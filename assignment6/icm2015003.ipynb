{
 "cells": [
  {
   "cell_type": "markdown",
   "metadata": {},
   "source": [
    "**USING PCA**"
   ]
  },
  {
   "cell_type": "code",
   "execution_count": 1,
   "metadata": {
    "_cell_guid": "b1076dfc-b9ad-4769-8c92-a6c4dae69d19",
    "_uuid": "8f2839f25d086af736a60e9eeb907d3b93b6e0e5"
   },
   "outputs": [
    {
     "name": "stdout",
     "output_type": "stream",
     "text": [
      "['faceset', 'faceset3', 'faceset2', 'testfaceset3', 'testfaceset', 'testfaceset2']\n"
     ]
    }
   ],
   "source": [
    "# This Python 3 environment comes with many helpful analytics libraries installed\n",
    "# It is defined by the kaggle/python docker image: https://github.com/kaggle/docker-python\n",
    "# For example, here's several helpful packages to load in \n",
    "\n",
    "import numpy as np # linear algebra\n",
    "import pandas as pd # data processing, CSV file I/O (e.g. pd.read_csv)=\n",
    "import tensorflow as tf\n",
    "import cv2\n",
    "import scipy.spatial.distance as sp\n",
    "import pathlib\n",
    "import imageio\n",
    "\n",
    "# Input data files are available in the \"../input/\" directory.\n",
    "# For example, running this (by clicking run or pressing Shift+Enter) will list the files in the input directory\n",
    "\n",
    "import os\n",
    "print(os.listdir(\"../input\"))\n",
    "\n",
    "# Any results you write to the current directory are saved as output."
   ]
  },
  {
   "cell_type": "code",
   "execution_count": 2,
   "metadata": {
    "_cell_guid": "79c7e3d0-c299-4dcb-8224-4455121ee9b0",
    "_uuid": "d629ff2d2480ee46fbb7e2d37f6b5fab8052498a"
   },
   "outputs": [
    {
     "name": "stdout",
     "output_type": "stream",
     "text": [
      "25\n"
     ]
    }
   ],
   "source": [
    "face_data = []\n",
    "training_paths = pathlib.Path('../input/faceset3/new_train_images').glob('*/*.jpg')\n",
    "training_sorted = sorted([x for x in training_paths])\n",
    "print(len(training_sorted))\n",
    "for x in training_sorted:\n",
    "    im_path = x\n",
    "    temp = cv2.imread(str(im_path),0)\n",
    "#     print(temp.shape)\n",
    "    temp = temp.flatten()\n",
    "#     print(temp.shape)\n",
    "    face_data.append(temp)\n",
    "# print(face_data.shape)\n",
    "# print(im_path)\n",
    "# im = imageio.imread(str(im_path))\n",
    "# print(im.flatten())"
   ]
  },
  {
   "cell_type": "code",
   "execution_count": 3,
   "metadata": {},
   "outputs": [
    {
     "name": "stdout",
     "output_type": "stream",
     "text": [
      "(25, 921600)\n",
      "(921600,)\n"
     ]
    }
   ],
   "source": [
    "train_faces = np.asarray(face_data)\n",
    "mean = np.mean(train_faces, axis = 0)\n",
    "print(train_faces.shape)\n",
    "print(mean.shape)"
   ]
  },
  {
   "cell_type": "code",
   "execution_count": 4,
   "metadata": {},
   "outputs": [],
   "source": [
    "for i in range (train_faces.shape[1]):\n",
    "    for j in range(train_faces.shape[0]):\n",
    "        train_faces[j][i] = train_faces[j][i] - mean[i]"
   ]
  },
  {
   "cell_type": "code",
   "execution_count": 5,
   "metadata": {},
   "outputs": [
    {
     "name": "stdout",
     "output_type": "stream",
     "text": [
      "[3203.5318848  -682.91348211 -547.36112601 -531.66608517 -492.82482889\n",
      " -411.1598164   596.10539555 -337.13887951 -303.29769366  535.953765\n",
      "  498.96914631  457.29239349 -230.45851     344.61026621  338.02205601\n",
      "  286.11533635  262.73882273  202.90092191 -135.51972099 -108.96998915\n",
      "  -59.88839581  -36.60373159   35.99987385   71.21350352  111.34889356]\n",
      "(25, 25)\n"
     ]
    }
   ],
   "source": [
    "cov_mat = np.matmul(train_faces,np.transpose(train_faces))\n",
    "eigval, eigvec = np.linalg.eig(cov_mat)\n",
    "print(eigval)\n",
    "print(eigvec.shape)"
   ]
  },
  {
   "cell_type": "code",
   "execution_count": 6,
   "metadata": {},
   "outputs": [
    {
     "name": "stdout",
     "output_type": "stream",
     "text": [
      "(1, 921600)\n",
      "(1, 25)\n"
     ]
    }
   ],
   "source": [
    "imp_eig_vec = eigvec[::,0:1]\n",
    "eig_faces = np.matmul(np.transpose(imp_eig_vec),train_faces)\n",
    "print(eig_faces.shape)\n",
    "weights = np.matmul(eig_faces,np.transpose(train_faces))\n",
    "print(weights.shape)"
   ]
  },
  {
   "cell_type": "code",
   "execution_count": 7,
   "metadata": {},
   "outputs": [],
   "source": [
    "w = np.reshape(weights,weights.shape[1])\n",
    "st_dev = np.std(w, axis = 0)\n",
    "var = st_dev*st_dev\n",
    "var = np.reshape(var,[1,1])"
   ]
  },
  {
   "cell_type": "markdown",
   "metadata": {},
   "source": [
    "**TESTING**"
   ]
  },
  {
   "cell_type": "code",
   "execution_count": 8,
   "metadata": {},
   "outputs": [],
   "source": [
    "test_data = []\n",
    "test_paths = pathlib.Path('../input/testfaceset3/new_test_images').glob('*/*.jpg')\n",
    "test_sorted = sorted([x for x in test_paths])"
   ]
  },
  {
   "cell_type": "code",
   "execution_count": 9,
   "metadata": {},
   "outputs": [
    {
     "name": "stdout",
     "output_type": "stream",
     "text": [
      "../input/testfaceset3/new_test_images/new_test_images/01.jpg\n",
      "../input/testfaceset3/new_test_images/new_test_images/02.jpg\n",
      "../input/testfaceset3/new_test_images/new_test_images/03.jpg\n",
      "../input/testfaceset3/new_test_images/new_test_images/04.jpg\n",
      "../input/testfaceset3/new_test_images/new_test_images/05.jpg\n",
      "../input/testfaceset3/new_test_images/new_test_images/07.jpg\n",
      "../input/testfaceset3/new_test_images/new_test_images/08.jpg\n"
     ]
    }
   ],
   "source": [
    "for x in test_sorted:\n",
    "    im_path = x\n",
    "    print(x)\n",
    "    temp = cv2.imread(str(im_path),0)\n",
    "#     print(temp.shape)\n",
    "    temp = temp.flatten()\n",
    "#     print(temp.shape)\n",
    "    test_data.append(temp)\n",
    "test_faces = np.asarray(test_data)\n",
    "test_mean = np.mean(test_faces, axis = 0)"
   ]
  },
  {
   "cell_type": "code",
   "execution_count": 10,
   "metadata": {},
   "outputs": [
    {
     "name": "stdout",
     "output_type": "stream",
     "text": [
      "(7, 921600)\n"
     ]
    }
   ],
   "source": [
    "for i in range (test_faces.shape[1]):\n",
    "    for j in range(test_faces.shape[0]):\n",
    "        test_faces[j][i] = test_faces[j][i] - mean[i]\n",
    "print(test_faces.shape)"
   ]
  },
  {
   "cell_type": "code",
   "execution_count": 11,
   "metadata": {},
   "outputs": [
    {
     "name": "stdout",
     "output_type": "stream",
     "text": [
      "81306585082.99385\n",
      "3.475549542691916e-14 2 0\n",
      "90568222420.75206\n",
      "1.1816868445152513e-13 6 1\n",
      "53618321888.70887\n",
      "4.112733625518767e-14 11 2\n",
      "85390702989.74513\n",
      "7.182802388229959e-14 18 3\n",
      "66769494629.28995\n",
      "2.548736331307405e-14 23 4\n",
      "69165776566.76831\n",
      "0.04968656284696091 22 5\n",
      "80778067669.77463\n",
      "0.040127440569857384 2 6\n",
      "1.0\n"
     ]
    }
   ],
   "source": [
    "\n",
    "correct_count = 0\n",
    "for j in range(7):\n",
    "    min_dist = (10)**21\n",
    "    test_obj = np.matmul(eig_faces,test_faces[j])\n",
    "    print(test_obj[0])\n",
    "    for i in range (weights.shape[1]):    \n",
    "        dist = sp.mahalanobis(weights[0][i], test_obj[0], np.linalg.inv(var))\n",
    "#         dist = sp.euclidean(weights[0][i], test_obj[0])\n",
    "        if ( dist < min_dist ):\n",
    "            min_dist = dist\n",
    "            min_i = i\n",
    "    print(min_dist,min_i,j)\n",
    "#     if((min_i//5)==j):\n",
    "#         correct_count += 1\n",
    "    threshold = 0.005\n",
    "    if (min_dist < threshold):\n",
    "        if ((min_i//5))==j:\n",
    "            correct_count += 1\n",
    "    else:\n",
    "        if j>=5:\n",
    "            correct_count += 1\n",
    "print(correct_count/7)"
   ]
  },
  {
   "cell_type": "markdown",
   "metadata": {},
   "source": [
    "**USING LDA**"
   ]
  },
  {
   "cell_type": "code",
   "execution_count": 12,
   "metadata": {},
   "outputs": [
    {
     "name": "stdout",
     "output_type": "stream",
     "text": [
      "(2, 25)\n"
     ]
    }
   ],
   "source": [
    "cov_mat = np.matmul(train_faces, np.transpose(train_faces))\n",
    "eigval, eigvec = np.linalg.eig(cov_mat)\n",
    "imp_eig_vec = eigvec[::,0:2]\n",
    "eig_faces = np.matmul(np.transpose(imp_eig_vec),train_faces)\n",
    "weights = np.matmul(eig_faces,np.transpose(train_faces))\n",
    "final_eig_faces = weights\n",
    "print(weights.shape)"
   ]
  },
  {
   "cell_type": "code",
   "execution_count": 13,
   "metadata": {},
   "outputs": [
    {
     "name": "stdout",
     "output_type": "stream",
     "text": [
      "(2,)\n",
      "(2, 2)\n"
     ]
    }
   ],
   "source": [
    "import copy\n",
    "class_means = np.empty([5,2])\n",
    "all_mean = np.mean(final_eig_faces, axis = 1)\n",
    "print(all_mean.shape)\n",
    "\n",
    "for j in range(5):\n",
    "    for i in range (int(j*final_eig_faces.shape[1]/5), int((j+1)*final_eig_faces.shape[1]/5)):\n",
    "        class_means[j][0] = class_means[j][0] + final_eig_faces[0][i]\n",
    "        class_means[j][1] = class_means[j][1] + final_eig_faces[1][i]\n",
    "\n",
    "    class_means[j][0] = class_means[j][0]/5\n",
    "    class_means[j][1] = class_means[j][1]/5\n",
    "\n",
    "dataSw = copy.deepcopy(final_eig_faces)\n",
    "dataSb = copy.deepcopy(final_eig_faces)\n",
    "for i in range ( dataSb.shape[1] ):\n",
    "    dataSb[0][i] = dataSb[0][i] - all_mean[0]\n",
    "    dataSb[1][i] = dataSb[1][i] - all_mean[1]\n",
    "\n",
    "for i in range ( dataSw.shape[1] ):\n",
    "    a = int(i/5)\n",
    "    dataSw[0][i] = dataSw[0][i] - class_means[a][0]\n",
    "    dataSw[1][i] = dataSw[1][i] - class_means[a][1]\n",
    "\n",
    "Sb = np.matmul(dataSb,np.transpose(dataSb))\n",
    "Sw = np.matmul(dataSw,np.transpose(dataSw))\n",
    "print(Sw.shape)"
   ]
  },
  {
   "cell_type": "code",
   "execution_count": 14,
   "metadata": {},
   "outputs": [
    {
     "name": "stdout",
     "output_type": "stream",
     "text": [
      "(2, 1)\n",
      "(1, 25)\n",
      "(25,)\n",
      "variance 5.432677091488019e+19\n",
      "(1, 1)\n",
      "(2, 921600)\n"
     ]
    }
   ],
   "source": [
    "eigen_value, eigen_vector = np.linalg.eig(np.matmul(np.linalg.inv(Sw),Sb))\n",
    "imp_eig_vector = eigen_vector[::,0:1]\n",
    "print(imp_eig_vector.shape)\n",
    "fisher_faces = np.matmul(np.transpose(imp_eig_vector),final_eig_faces)\n",
    "print(fisher_faces.shape)\n",
    "w1 = np.reshape(fisher_faces,(weights.shape[1]))\n",
    "print(w1.shape)\n",
    "st_dev = np.std(w1, axis = 0)\n",
    "var = st_dev*st_dev\n",
    "print(\"variance\",var)\n",
    "var = np.reshape(var,[1,1])\n",
    "print(var.shape)\n",
    "print(eig_faces.shape)"
   ]
  },
  {
   "cell_type": "markdown",
   "metadata": {},
   "source": [
    "**TESTING**"
   ]
  },
  {
   "cell_type": "code",
   "execution_count": 15,
   "metadata": {},
   "outputs": [
    {
     "name": "stdout",
     "output_type": "stream",
     "text": [
      "(7, 921600)\n",
      "(2, 921600)\n",
      "(921600, 1)\n",
      "(2, 1)\n",
      "(2, 1)\n",
      "(1,)\n",
      "1.5526529282532462e-14 2 0\n",
      "(7, 921600)\n",
      "(2, 921600)\n",
      "(921600, 1)\n",
      "(2, 1)\n",
      "(2, 1)\n",
      "(1,)\n",
      "4.140407808675324e-15 6 1\n",
      "(7, 921600)\n",
      "(2, 921600)\n",
      "(921600, 1)\n",
      "(2, 1)\n",
      "(2, 1)\n",
      "(1,)\n",
      "0.0 11 2\n",
      "(7, 921600)\n",
      "(2, 921600)\n",
      "(921600, 1)\n",
      "(2, 1)\n",
      "(2, 1)\n",
      "(1,)\n",
      "5.175509760844154e-15 18 3\n",
      "(7, 921600)\n",
      "(2, 921600)\n",
      "(921600, 1)\n",
      "(2, 1)\n",
      "(2, 1)\n",
      "(1,)\n",
      "5.175509760844154e-15 23 4\n",
      "(7, 921600)\n",
      "(2, 921600)\n",
      "(921600, 1)\n",
      "(2, 1)\n",
      "(2, 1)\n",
      "(1,)\n",
      "0.006257283968852454 20 5\n",
      "(7, 921600)\n",
      "(2, 921600)\n",
      "(921600, 1)\n",
      "(2, 1)\n",
      "(2, 1)\n",
      "(1,)\n",
      "0.0972744352174513 16 6\n",
      "1.0\n"
     ]
    }
   ],
   "source": [
    "\n",
    "correct_count = 0\n",
    "for j in range(7):\n",
    "    min_dist = (10)**15\n",
    "    print(test_faces.shape)\n",
    "    test_obj = test_faces[j]\n",
    "    test_obj = np.reshape(test_obj,[921600,1])\n",
    "    print(eig_faces.shape)\n",
    "    print(test_obj.shape)\n",
    "    test_face = np.matmul(eig_faces,test_obj)\n",
    "    print(test_face.shape)\n",
    "    print(imp_eig_vector.shape)\n",
    "    test_face = np.matmul(np.transpose(imp_eig_vector),test_face)\n",
    "    test_face = test_face[0]\n",
    "    print(test_face.shape)\n",
    "    for i in range (fisher_faces.shape[1]):    \n",
    "        dist = sp.mahalanobis(fisher_faces[0][i], test_face, np.linalg.inv(var))\n",
    "        if ( dist < min_dist ):\n",
    "            min_dist = dist\n",
    "            min_i = i\n",
    "    print(min_dist,min_i,j)\n",
    "    threshold = 0.005\n",
    "#     if ((min_i//5))==j:\n",
    "#         correct_count += 1\n",
    "    if (min_dist < threshold):\n",
    "        if ((min_i//5))==j:\n",
    "            correct_count += 1\n",
    "    else:\n",
    "        if j>=5:\n",
    "            correct_count += 1\n",
    "print(correct_count/7)"
   ]
  }
 ],
 "metadata": {
  "kernelspec": {
   "display_name": "Python 3",
   "language": "python",
   "name": "python3"
  },
  "language_info": {
   "codemirror_mode": {
    "name": "ipython",
    "version": 3
   },
   "file_extension": ".py",
   "mimetype": "text/x-python",
   "name": "python",
   "nbconvert_exporter": "python",
   "pygments_lexer": "ipython3",
   "version": "3.6.4"
  }
 },
 "nbformat": 4,
 "nbformat_minor": 1
}
