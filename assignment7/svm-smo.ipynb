{
 "cells": [
  {
   "cell_type": "markdown",
   "metadata": {},
   "source": [
    "**Support Vector Machine using SMO Algorithm**"
   ]
  },
  {
   "cell_type": "code",
   "execution_count": 1,
   "metadata": {
    "_cell_guid": "b1076dfc-b9ad-4769-8c92-a6c4dae69d19",
    "_uuid": "8f2839f25d086af736a60e9eeb907d3b93b6e0e5"
   },
   "outputs": [
    {
     "name": "stdout",
     "output_type": "stream",
     "text": [
      "['mnist_train.csv', 'mnist_test.csv']\n"
     ]
    }
   ],
   "source": [
    "import numpy as np # linear algebra\n",
    "import pandas as pd # data processing, CSV file I/O (e.g. pd.read_csv)\n",
    "import matplotlib.pyplot as plt\n",
    "import random\n",
    "import math\n",
    "import pylab as pl\n",
    "from sklearn import svm\n",
    "from sklearn.metrics import roc_curve, auc\n",
    "random_state = np.random.RandomState(0)\n",
    "from sklearn.metrics import confusion_matrix\n",
    "import seaborn as sns\n",
    "import os\n",
    "print(os.listdir(\"../input\"))\n",
    "\n",
    "# Any results you write to the current directory are saved as output."
   ]
  },
  {
   "cell_type": "code",
   "execution_count": 2,
   "metadata": {
    "_cell_guid": "79c7e3d0-c299-4dcb-8224-4455121ee9b0",
    "_uuid": "d629ff2d2480ee46fbb7e2d37f6b5fab8052498a"
   },
   "outputs": [],
   "source": [
    "temp_df = pd.read_csv('../input/mnist_train.csv')"
   ]
  },
  {
   "cell_type": "code",
   "execution_count": 3,
   "metadata": {},
   "outputs": [
    {
     "data": {
      "text/plain": [
       "(60000, 785)"
      ]
     },
     "execution_count": 3,
     "metadata": {},
     "output_type": "execute_result"
    }
   ],
   "source": [
    "temp_df.shape"
   ]
  },
  {
   "cell_type": "code",
   "execution_count": 4,
   "metadata": {},
   "outputs": [],
   "source": [
    "new_df = temp_df.iloc[[7]]"
   ]
  },
  {
   "cell_type": "code",
   "execution_count": 5,
   "metadata": {},
   "outputs": [
    {
     "data": {
      "text/plain": [
       "(1, 785)"
      ]
     },
     "execution_count": 5,
     "metadata": {},
     "output_type": "execute_result"
    }
   ],
   "source": [
    "new_df.shape"
   ]
  },
  {
   "cell_type": "code",
   "execution_count": 6,
   "metadata": {},
   "outputs": [
    {
     "data": {
      "text/html": [
       "<div>\n",
       "<style scoped>\n",
       "    .dataframe tbody tr th:only-of-type {\n",
       "        vertical-align: middle;\n",
       "    }\n",
       "\n",
       "    .dataframe tbody tr th {\n",
       "        vertical-align: top;\n",
       "    }\n",
       "\n",
       "    .dataframe thead th {\n",
       "        text-align: right;\n",
       "    }\n",
       "</style>\n",
       "<table border=\"1\" class=\"dataframe\">\n",
       "  <thead>\n",
       "    <tr style=\"text-align: right;\">\n",
       "      <th></th>\n",
       "      <th>label</th>\n",
       "      <th>1x1</th>\n",
       "      <th>1x2</th>\n",
       "      <th>1x3</th>\n",
       "      <th>1x4</th>\n",
       "      <th>1x5</th>\n",
       "      <th>1x6</th>\n",
       "      <th>1x7</th>\n",
       "      <th>1x8</th>\n",
       "      <th>1x9</th>\n",
       "      <th>1x10</th>\n",
       "      <th>1x11</th>\n",
       "      <th>1x12</th>\n",
       "      <th>1x13</th>\n",
       "      <th>1x14</th>\n",
       "      <th>1x15</th>\n",
       "      <th>1x16</th>\n",
       "      <th>1x17</th>\n",
       "      <th>1x18</th>\n",
       "      <th>1x19</th>\n",
       "      <th>1x20</th>\n",
       "      <th>1x21</th>\n",
       "      <th>1x22</th>\n",
       "      <th>1x23</th>\n",
       "      <th>1x24</th>\n",
       "      <th>1x25</th>\n",
       "      <th>1x26</th>\n",
       "      <th>1x27</th>\n",
       "      <th>1x28</th>\n",
       "      <th>2x1</th>\n",
       "      <th>2x2</th>\n",
       "      <th>2x3</th>\n",
       "      <th>2x4</th>\n",
       "      <th>2x5</th>\n",
       "      <th>2x6</th>\n",
       "      <th>2x7</th>\n",
       "      <th>2x8</th>\n",
       "      <th>2x9</th>\n",
       "      <th>2x10</th>\n",
       "      <th>2x11</th>\n",
       "      <th>...</th>\n",
       "      <th>27x17</th>\n",
       "      <th>27x18</th>\n",
       "      <th>27x19</th>\n",
       "      <th>27x20</th>\n",
       "      <th>27x21</th>\n",
       "      <th>27x22</th>\n",
       "      <th>27x23</th>\n",
       "      <th>27x24</th>\n",
       "      <th>27x25</th>\n",
       "      <th>27x26</th>\n",
       "      <th>27x27</th>\n",
       "      <th>27x28</th>\n",
       "      <th>28x1</th>\n",
       "      <th>28x2</th>\n",
       "      <th>28x3</th>\n",
       "      <th>28x4</th>\n",
       "      <th>28x5</th>\n",
       "      <th>28x6</th>\n",
       "      <th>28x7</th>\n",
       "      <th>28x8</th>\n",
       "      <th>28x9</th>\n",
       "      <th>28x10</th>\n",
       "      <th>28x11</th>\n",
       "      <th>28x12</th>\n",
       "      <th>28x13</th>\n",
       "      <th>28x14</th>\n",
       "      <th>28x15</th>\n",
       "      <th>28x16</th>\n",
       "      <th>28x17</th>\n",
       "      <th>28x18</th>\n",
       "      <th>28x19</th>\n",
       "      <th>28x20</th>\n",
       "      <th>28x21</th>\n",
       "      <th>28x22</th>\n",
       "      <th>28x23</th>\n",
       "      <th>28x24</th>\n",
       "      <th>28x25</th>\n",
       "      <th>28x26</th>\n",
       "      <th>28x27</th>\n",
       "      <th>28x28</th>\n",
       "    </tr>\n",
       "  </thead>\n",
       "  <tbody>\n",
       "    <tr>\n",
       "      <th>7</th>\n",
       "      <td>3</td>\n",
       "      <td>0</td>\n",
       "      <td>0</td>\n",
       "      <td>0</td>\n",
       "      <td>0</td>\n",
       "      <td>0</td>\n",
       "      <td>0</td>\n",
       "      <td>0</td>\n",
       "      <td>0</td>\n",
       "      <td>0</td>\n",
       "      <td>0</td>\n",
       "      <td>0</td>\n",
       "      <td>0</td>\n",
       "      <td>0</td>\n",
       "      <td>0</td>\n",
       "      <td>0</td>\n",
       "      <td>0</td>\n",
       "      <td>0</td>\n",
       "      <td>0</td>\n",
       "      <td>0</td>\n",
       "      <td>0</td>\n",
       "      <td>0</td>\n",
       "      <td>0</td>\n",
       "      <td>0</td>\n",
       "      <td>0</td>\n",
       "      <td>0</td>\n",
       "      <td>0</td>\n",
       "      <td>0</td>\n",
       "      <td>0</td>\n",
       "      <td>0</td>\n",
       "      <td>0</td>\n",
       "      <td>0</td>\n",
       "      <td>0</td>\n",
       "      <td>0</td>\n",
       "      <td>0</td>\n",
       "      <td>0</td>\n",
       "      <td>0</td>\n",
       "      <td>0</td>\n",
       "      <td>0</td>\n",
       "      <td>0</td>\n",
       "      <td>...</td>\n",
       "      <td>0</td>\n",
       "      <td>0</td>\n",
       "      <td>0</td>\n",
       "      <td>0</td>\n",
       "      <td>0</td>\n",
       "      <td>0</td>\n",
       "      <td>0</td>\n",
       "      <td>0</td>\n",
       "      <td>0</td>\n",
       "      <td>0</td>\n",
       "      <td>0</td>\n",
       "      <td>0</td>\n",
       "      <td>0</td>\n",
       "      <td>0</td>\n",
       "      <td>0</td>\n",
       "      <td>0</td>\n",
       "      <td>0</td>\n",
       "      <td>0</td>\n",
       "      <td>0</td>\n",
       "      <td>0</td>\n",
       "      <td>0</td>\n",
       "      <td>0</td>\n",
       "      <td>0</td>\n",
       "      <td>0</td>\n",
       "      <td>0</td>\n",
       "      <td>0</td>\n",
       "      <td>0</td>\n",
       "      <td>0</td>\n",
       "      <td>0</td>\n",
       "      <td>0</td>\n",
       "      <td>0</td>\n",
       "      <td>0</td>\n",
       "      <td>0</td>\n",
       "      <td>0</td>\n",
       "      <td>0</td>\n",
       "      <td>0</td>\n",
       "      <td>0</td>\n",
       "      <td>0</td>\n",
       "      <td>0</td>\n",
       "      <td>0</td>\n",
       "    </tr>\n",
       "  </tbody>\n",
       "</table>\n",
       "</div>"
      ],
      "text/plain": [
       "   label  1x1  1x2  1x3  1x4  ...    28x24  28x25  28x26  28x27  28x28\n",
       "7      3    0    0    0    0  ...        0      0      0      0      0\n",
       "\n",
       "[1 rows x 785 columns]"
      ]
     },
     "execution_count": 6,
     "metadata": {},
     "output_type": "execute_result"
    }
   ],
   "source": [
    "new_df.iloc[:1]"
   ]
  },
  {
   "cell_type": "code",
   "execution_count": 7,
   "metadata": {},
   "outputs": [],
   "source": [
    "for index, row in temp_df.iterrows():\n",
    "    #print(index)\n",
    "    i = 0\n",
    "    if(row[\"label\"] == 3 or row[\"label\"] == 8):\n",
    "        if(index!=7):\n",
    "            new_df = new_df.append(temp_df.loc[[index]])\n",
    "    "
   ]
  },
  {
   "cell_type": "code",
   "execution_count": 8,
   "metadata": {},
   "outputs": [
    {
     "data": {
      "text/plain": [
       "(11982, 785)"
      ]
     },
     "execution_count": 8,
     "metadata": {},
     "output_type": "execute_result"
    }
   ],
   "source": [
    "new_df.shape"
   ]
  },
  {
   "cell_type": "code",
   "execution_count": 9,
   "metadata": {},
   "outputs": [],
   "source": [
    "new_df = new_df.iloc[:1000]"
   ]
  },
  {
   "cell_type": "code",
   "execution_count": 10,
   "metadata": {},
   "outputs": [
    {
     "data": {
      "text/plain": [
       "(1000, 785)"
      ]
     },
     "execution_count": 10,
     "metadata": {},
     "output_type": "execute_result"
    }
   ],
   "source": [
    "new_df.shape"
   ]
  },
  {
   "cell_type": "code",
   "execution_count": 11,
   "metadata": {},
   "outputs": [],
   "source": [
    "for index, row in new_df.iterrows():\n",
    "    if(row[\"label\"]==8):\n",
    "        row[\"label\"] = 1\n",
    "    else: \n",
    "        row[\"label\"] = -1"
   ]
  },
  {
   "cell_type": "code",
   "execution_count": 12,
   "metadata": {},
   "outputs": [],
   "source": [
    "#print(new_df)"
   ]
  },
  {
   "cell_type": "code",
   "execution_count": 13,
   "metadata": {},
   "outputs": [],
   "source": [
    "train, validate, test = np.split(new_df.sample(frac=1), [int(.6*len(new_df)), int(.8*len(new_df))])"
   ]
  },
  {
   "cell_type": "code",
   "execution_count": 14,
   "metadata": {},
   "outputs": [
    {
     "data": {
      "text/plain": [
       "(600, 785)"
      ]
     },
     "execution_count": 14,
     "metadata": {},
     "output_type": "execute_result"
    }
   ],
   "source": [
    "train.shape"
   ]
  },
  {
   "cell_type": "code",
   "execution_count": 15,
   "metadata": {},
   "outputs": [
    {
     "data": {
      "text/plain": [
       "(200, 785)"
      ]
     },
     "execution_count": 15,
     "metadata": {},
     "output_type": "execute_result"
    }
   ],
   "source": [
    "validate.shape"
   ]
  },
  {
   "cell_type": "code",
   "execution_count": 16,
   "metadata": {},
   "outputs": [
    {
     "data": {
      "text/plain": [
       "(200, 785)"
      ]
     },
     "execution_count": 16,
     "metadata": {},
     "output_type": "execute_result"
    }
   ],
   "source": [
    "test.shape"
   ]
  },
  {
   "cell_type": "code",
   "execution_count": 17,
   "metadata": {},
   "outputs": [
    {
     "data": {
      "text/plain": [
       "<matplotlib.axes._subplots.AxesSubplot at 0x7f238a07bda0>"
      ]
     },
     "execution_count": 17,
     "metadata": {},
     "output_type": "execute_result"
    },
    {
     "data": {
      "image/png": "[encoded data removed]",
      "text/plain": [
       "<Figure size 432x288 with 1 Axes>"
      ]
     },
     "metadata": {},
     "output_type": "display_data"
    }
   ],
   "source": [
    "sns.countplot(train['label'])"
   ]
  },
  {
   "cell_type": "code",
   "execution_count": 18,
   "metadata": {},
   "outputs": [
    {
     "data": {
      "text/plain": [
       "<matplotlib.axes._subplots.AxesSubplot at 0x7f238a4ae6d8>"
      ]
     },
     "execution_count": 18,
     "metadata": {},
     "output_type": "execute_result"
    },
    {
     "data": {
      "image/png": "[encoded data removed]",
      "text/plain": [
       "<Figure size 432x288 with 1 Axes>"
      ]
     },
     "metadata": {},
     "output_type": "display_data"
    }
   ],
   "source": [
    "sns.countplot(validate['label'])"
   ]
  },
  {
   "cell_type": "code",
   "execution_count": 19,
   "metadata": {},
   "outputs": [
    {
     "data": {
      "text/plain": [
       "<matplotlib.axes._subplots.AxesSubplot at 0x7f238a479ac8>"
      ]
     },
     "execution_count": 19,
     "metadata": {},
     "output_type": "execute_result"
    },
    {
     "data": {
      "image/png": "[encoded data removed]",
      "text/plain": [
       "<Figure size 432x288 with 1 Axes>"
      ]
     },
     "metadata": {},
     "output_type": "display_data"
    }
   ],
   "source": [
    "sns.countplot(test['label'])"
   ]
  },
  {
   "cell_type": "code",
   "execution_count": 20,
   "metadata": {},
   "outputs": [],
   "source": [
    "X_test = test.iloc[:,1:]\n",
    "Y_test = test.iloc[:, 0]"
   ]
  },
  {
   "cell_type": "code",
   "execution_count": 21,
   "metadata": {},
   "outputs": [],
   "source": [
    "X_train, Y_train = train.iloc[:,1:], train.iloc[:,0].astype(int)\n",
    "#print(y)"
   ]
  },
  {
   "cell_type": "code",
   "execution_count": 22,
   "metadata": {},
   "outputs": [
    {
     "data": {
      "text/plain": [
       "(600,)"
      ]
     },
     "execution_count": 22,
     "metadata": {},
     "output_type": "execute_result"
    }
   ],
   "source": [
    "Y_train.shape"
   ]
  },
  {
   "cell_type": "code",
   "execution_count": 23,
   "metadata": {},
   "outputs": [],
   "source": [
    "def heuristic(a,b,z):\n",
    "        i = z\n",
    "        count=0\n",
    "        while i == z and count<1000:\n",
    "            i = random.randint(a,b)\n",
    "            count=count+1\n",
    "        return i"
   ]
  },
  {
   "cell_type": "code",
   "execution_count": 24,
   "metadata": {},
   "outputs": [],
   "source": [
    "#def calc_b(X, Y, w):\n",
    "def get_b(X, Y, i,j,Ei,Ej,alphaIold, alphaJold,alphas,b,C):\n",
    "        #b_tmp = y - np.dot(w.T, X.T)\n",
    "        #return np.mean(b_tmp)\n",
    "        b1 = b - Ei- Y.iloc[i]*(alphas[i]-alphaIold)*kernel_linear(X.iloc[i,:],X.iloc[i,:]) - Y.iloc[j]*(alphas[j]-alphaJold)*kernel_linear(X.iloc[i,:],X.iloc[j,:])    \n",
    "        b2 = b - Ej- Y.iloc[i]*(alphas[i]-alphaIold)*kernel_linear(X.iloc[i,:],X.iloc[j,:]) - Y.iloc[j]*(alphas[j]-alphaJold)*kernel_linear(X.iloc[j,:],X.iloc[j,:])\n",
    "        if (0 < alphas[i]) and (C > alphas[i]):\n",
    "            b = b1\n",
    "        elif (0 < alphas[j]) and (C > alphas[j]):\n",
    "            b = b2\n",
    "        else:\n",
    "            b = (b1 + b2)/2.0\n",
    "        return b\n",
    "        \n",
    "def get_w(alpha, y, X):\n",
    "        return np.dot(X.T, np.multiply(alpha,y))"
   ]
  },
  {
   "cell_type": "code",
   "execution_count": 25,
   "metadata": {},
   "outputs": [],
   "source": [
    "def compute_L_H(C,alpha_prime_j, alpha_prime_i, y_j, y_i):\n",
    "        if(y_i != y_j):\n",
    "            return (max(0, alpha_prime_j - alpha_prime_i), min(C, C - alpha_prime_i + alpha_prime_j))\n",
    "        else:\n",
    "            return (max(0, alpha_prime_i + alpha_prime_j - C), min(C, alpha_prime_i + alpha_prime_j))\n",
    "    "
   ]
  },
  {
   "cell_type": "code",
   "execution_count": 26,
   "metadata": {},
   "outputs": [],
   "source": [
    "def kernel_linear(x1, x2):\n",
    "        return np.dot(x1, x2.T)\n",
    "def kernel_quadratic(x1, x2):\n",
    "        return (np.dot(x1, x2.T) ** 2)\n",
    "def kernel_RBF(x1,x2):\n",
    "        dist = np.linalg.norm(x1-x2)\n",
    "        dist = dist**2\n",
    "        return math.exp( -0.5*dist )\n",
    "\n",
    "        "
   ]
  },
  {
   "cell_type": "code",
   "execution_count": 27,
   "metadata": {},
   "outputs": [],
   "source": [
    "\n",
    "def h(X, w, b):\n",
    "        return np.sign(np.dot(w.T, X.T) + b).astype(int)\n",
    "def E(x_k, y_k, w, b):\n",
    "        return h(x_k, w, b) - y_k"
   ]
  },
  {
   "cell_type": "code",
   "execution_count": 28,
   "metadata": {},
   "outputs": [],
   "source": [
    "def decision_function(alphas, target, X_train, x_test, b):\n",
    "    \"\"\"Applies the SVM decision function to the input feature vectors in `x_test`.\"\"\"\n",
    "    \n",
    "    result = (alphas * target) @ kernel_linear(X_train, x_test) - b\n",
    "    return result"
   ]
  },
  {
   "cell_type": "code",
   "execution_count": 29,
   "metadata": {},
   "outputs": [],
   "source": [
    "def predict(X,w,b):\n",
    "        return h(X, w, b)"
   ]
  },
  {
   "cell_type": "code",
   "execution_count": 30,
   "metadata": {},
   "outputs": [],
   "source": [
    "def get_acc(y,y_hat):\n",
    "    correct = 0\n",
    "    total = 0\n",
    "    \n",
    "    for i in range(0,y.shape[0]):\n",
    "        total = total+1\n",
    "        if(y[i]==-1 and y_hat[i]==-1):\n",
    "            correct = correct+1\n",
    "        if(y[i]==1 and y_hat[i]==1):\n",
    "            correct = correct+1\n",
    "    acc = float(correct/total)\n",
    "    return acc"
   ]
  },
  {
   "cell_type": "code",
   "execution_count": 31,
   "metadata": {},
   "outputs": [
    {
     "data": {
      "text/plain": [
       "(600,)"
      ]
     },
     "execution_count": 31,
     "metadata": {},
     "output_type": "execute_result"
    }
   ],
   "source": [
    "Y_train.shape"
   ]
  },
  {
   "cell_type": "code",
   "execution_count": 32,
   "metadata": {},
   "outputs": [],
   "source": [
    "def f(alpha,Y_tr,x_i,X_tr,b,n):\n",
    "    sum = 0\n",
    "    for i in range (0,n):\n",
    "        a1 = int(alpha[i])\n",
    "        #print(a1)\n",
    "        a2 = int(Y_tr.iloc[i])\n",
    "        #print(a2)\n",
    "        a3 = kernel_linear(X_tr.iloc[i,:],x_i)\n",
    "        #print(a3)\n",
    "        #sum += alpha[i]*Y_tr[i]*kernel_linear(X_tr[i],x_i)\n",
    "        sum = sum + (a1*a2*a3)\n",
    "    sum+=b\n",
    "    return sum"
   ]
  },
  {
   "cell_type": "code",
   "execution_count": 33,
   "metadata": {},
   "outputs": [
    {
     "name": "stdout",
     "output_type": "stream",
     "text": [
      "2780982\n"
     ]
    }
   ],
   "source": [
    "x_1 = X_train.iloc[1,:]\n",
    "x_2 = X_train.iloc[2,:]\n",
    "ans = kernel_linear(x_1,x_2)\n",
    "ans2 = int(ans)\n",
    "print(ans2)"
   ]
  },
  {
   "cell_type": "code",
   "execution_count": 34,
   "metadata": {},
   "outputs": [
    {
     "name": "stdout",
     "output_type": "stream",
     "text": [
      "(600,)\n"
     ]
    }
   ],
   "source": [
    "n, d = X_train.shape[0], X_train.shape[1]\n",
    "alpha = np.zeros((n))\n",
    "print(alpha.shape)\n",
    "count = 0\n",
    "C = 1.0\n",
    "b = 0\n",
    "epsilon=0.001\n",
    "max_iter = 1000\n",
    "while count<1:\n",
    "            count += 1\n",
    "            alpha_prev = np.copy(alpha)\n",
    "            for j in range(0, n):\n",
    "                i = heuristic(0, n-1, j)\n",
    "\n",
    "                x_i, x_j, y_i, y_j = X_train.iloc[i,:], X_train.iloc[j,:], Y_train.iloc[i], Y_train.iloc[j]\n",
    "\n",
    "                eta = kernel_linear(x_i, x_i) + kernel_linear(x_j, x_j) - 2 * kernel_linear(x_i, x_j)\n",
    "\n",
    "                if eta == 0:\n",
    "                    continue\n",
    "                alpha_prime_j, alpha_prime_i = alpha[j], alpha[i]\n",
    "   \n",
    "                (L, H) = compute_L_H(C,alpha_prime_j, alpha_prime_i, y_j, y_i)\n",
    "                fXi = f(alpha,Y_train,x_i,X_train,b,n)\n",
    "                fXj = f(alpha,Y_train,x_j,X_train,b,n)\n",
    "                Ei = fXi - float(y_i)\n",
    "                Ej = fXj - float(y_j)\n",
    "\n",
    "                b = get_b(X_train, Y_train, i,j,Ei,Ej,alpha_prime_i, alpha_prime_j,alpha,b,C)\n",
    "\n",
    "                alpha[j] = alpha_prime_j + float(y_j * (Ei - Ej))/eta\n",
    "                alpha[j] = max(alpha[j], L)\n",
    "                alpha[j] = min(alpha[j], H)\n",
    "\n",
    "                alpha[i] = alpha_prime_i + y_i*y_j * (alpha_prime_j - alpha[j])\n",
    "\n",
    "            # Check convergence\n",
    "            diff = np.linalg.norm(alpha - alpha_prev)\n",
    "            if diff < epsilon:\n",
    "                break\n",
    "\n",
    "            if count >= max_iter:\n",
    "                print(\"Iteration number exceeded the max of  iterations\")\n",
    "                break\n",
    "        # Compute final model parameters\n",
    "b = get_b(X_train, Y_train, i,j,Ei,Ej,alpha_prime_i, alpha_prime_j,alpha,b,C)\n",
    "#if self.kernel_type == 'linear':\n",
    "w = get_w(alpha, Y_train, X_train)\n",
    "        # Get support vectors\n",
    "alpha_idx = np.where(alpha > 0)[0]\n",
    "support_vectors = X_train.iloc[alpha_idx, :]\n",
    "#return support_vectors, count\n",
    "sv_count = support_vectors.shape[0]\n",
    "\n",
    "    # Make prediction\n",
    "\n"
   ]
  },
  {
   "cell_type": "code",
   "execution_count": 35,
   "metadata": {},
   "outputs": [
    {
     "name": "stdout",
     "output_type": "stream",
     "text": [
      "Confusion Matrix [[89 16]\n",
      " [ 7 88]]\n",
      "0.885\n"
     ]
    },
    {
     "data": {
      "image/png": "[encoded data removed]",
      "text/plain": [
       "<Figure size 432x288 with 2 Axes>"
      ]
     },
     "metadata": {},
     "output_type": "display_data"
    }
   ],
   "source": [
    "Y_predicted = predict(X_test,w,b)\n",
    "\n",
    "Y_n_test= Y_test.values\n",
    "cm = confusion_matrix(Y_n_test, Y_predicted)\n",
    "print(\"Confusion Matrix\",cm)\n",
    "ax = sns.heatmap(confusion_matrix(Y_test, Y_predicted))\n",
    "acc = get_acc(Y_n_test, Y_predicted)\n",
    "\n",
    "print(acc)"
   ]
  },
  {
   "cell_type": "markdown",
   "metadata": {},
   "source": [
    "**Analysis using ROC Curves**"
   ]
  },
  {
   "cell_type": "code",
   "execution_count": 36,
   "metadata": {},
   "outputs": [],
   "source": [
    "classifier = svm.SVC(kernel='linear', probability=True)\n",
    "probas_ = classifier.fit(X_train, Y_train).predict_proba(X_test)"
   ]
  },
  {
   "cell_type": "code",
   "execution_count": 37,
   "metadata": {},
   "outputs": [
    {
     "name": "stdout",
     "output_type": "stream",
     "text": [
      "Area under the ROC curve : %f 0.9937844611528822\n"
     ]
    }
   ],
   "source": [
    "# Compute ROC curve and area the curve\n",
    "fpr, tpr, thresholds = roc_curve(Y_test, probas_[:, 1])\n",
    "roc_auc = auc(fpr, tpr)\n",
    "print(\"Area under the ROC curve : %f\",roc_auc)"
   ]
  },
  {
   "cell_type": "code",
   "execution_count": 38,
   "metadata": {},
   "outputs": [
    {
     "data": {
      "image/png": "[encoded data removed]",
      "text/plain": [
       "<Figure size 432x288 with 1 Axes>"
      ]
     },
     "metadata": {},
     "output_type": "display_data"
    }
   ],
   "source": [
    "# Plot ROC curve\n",
    "pl.clf()\n",
    "pl.plot(fpr, tpr, label='ROC curve (area = %0.2f)' % roc_auc)\n",
    "pl.plot([0, 1], [0, 1], 'k--')\n",
    "pl.xlim([0.0, 1.0])\n",
    "pl.ylim([0.0, 1.0])\n",
    "pl.xlabel('False Positive Rate')\n",
    "pl.ylabel('True Positive Rate')\n",
    "pl.title('Receiver operating characteristic example')\n",
    "pl.legend(loc=\"lower right\")\n",
    "pl.show()"
   ]
  },
  {
   "cell_type": "code",
   "execution_count": 39,
   "metadata": {},
   "outputs": [],
   "source": [
    "classifier = svm.SVC(C=1.0, kernel='poly', degree=2, gamma=2,probability=True)\n",
    "probas_ = classifier.fit(X_train, Y_train).predict_proba(X_test)"
   ]
  },
  {
   "cell_type": "code",
   "execution_count": 40,
   "metadata": {},
   "outputs": [
    {
     "name": "stdout",
     "output_type": "stream",
     "text": [
      "Area under the ROC curve : %f 0.9977944862155389\n"
     ]
    }
   ],
   "source": [
    "fpr, tpr, thresholds = roc_curve(Y_test, probas_[:, 1])\n",
    "roc_auc = auc(fpr, tpr)\n",
    "print(\"Area under the ROC curve : %f\",roc_auc)"
   ]
  },
  {
   "cell_type": "code",
   "execution_count": 41,
   "metadata": {},
   "outputs": [
    {
     "data": {
      "image/png": "[encoded data removed]",
      "text/plain": [
       "<Figure size 432x288 with 1 Axes>"
      ]
     },
     "metadata": {},
     "output_type": "display_data"
    }
   ],
   "source": [
    "# Plot ROC curve\n",
    "pl.clf()\n",
    "pl.plot(fpr, tpr, label='ROC curve (area = %0.2f)' % roc_auc)\n",
    "pl.plot([0, 1], [0, 1], 'k--')\n",
    "pl.xlim([0.0, 1.0])\n",
    "pl.ylim([0.0, 1.0])\n",
    "pl.xlabel('False Positive Rate')\n",
    "pl.ylabel('True Positive Rate')\n",
    "pl.title('Receiver operating characteristic example')\n",
    "pl.legend(loc=\"lower right\")\n",
    "pl.show()"
   ]
  },
  {
   "cell_type": "code",
   "execution_count": 42,
   "metadata": {},
   "outputs": [],
   "source": []
  }
 ],
 "metadata": {
  "kernelspec": {
   "display_name": "Python 3",
   "language": "python",
   "name": "python3"
  },
  "language_info": {
   "codemirror_mode": {
    "name": "ipython",
    "version": 3
   },
   "file_extension": ".py",
   "mimetype": "text/x-python",
   "name": "python",
   "nbconvert_exporter": "python",
   "pygments_lexer": "ipython3",
   "version": "3.6.4"
  }
 },
 "nbformat": 4,
 "nbformat_minor": 1
}
